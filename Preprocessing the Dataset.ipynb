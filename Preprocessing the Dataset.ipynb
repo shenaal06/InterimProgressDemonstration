{
 "cells": [
  {
   "cell_type": "code",
   "execution_count": 8,
   "id": "a2712030",
   "metadata": {},
   "outputs": [],
   "source": [
    "import pandas as pd\n",
    "from sklearn.impute import SimpleImputer"
   ]
  },
  {
   "cell_type": "code",
   "execution_count": 9,
   "id": "ed942600",
   "metadata": {},
   "outputs": [],
   "source": [
    "# Load dataset\n",
    "file_path = \"C:/Users/User/Final Year Project/Dataset/pharmacy_sales_april_2023.csv\"\n",
    "data = pd.read_csv(file_path)"
   ]
  },
  {
   "cell_type": "code",
   "execution_count": 10,
   "id": "7747ffa1",
   "metadata": {},
   "outputs": [
    {
     "name": "stdout",
     "output_type": "stream",
     "text": [
      "Missing values:\n",
      " SaleID       0\n",
      "Time         0\n",
      "DrugID       0\n",
      "DrugName     0\n",
      "DrugClass    0\n",
      "Price        0\n",
      "ExpDate      0\n",
      "Quantity     0\n",
      "dtype: int64\n"
     ]
    }
   ],
   "source": [
    "# Check for missing values\n",
    "missing_values = data.isnull().sum()\n",
    "print(\"Missing values:\\n\", missing_values)"
   ]
  },
  {
   "cell_type": "code",
   "execution_count": 11,
   "id": "5f035003",
   "metadata": {},
   "outputs": [],
   "source": [
    "# Impute missing values with mean (numerical columns) or mode (categorical columns)\n",
    "num_imputer = SimpleImputer(strategy='mean')\n",
    "cat_imputer = SimpleImputer(strategy='most_frequent')\n",
    "\n",
    "data[data.select_dtypes(include=['float64', 'int64']).columns] = num_imputer.fit_transform(\n",
    "    data.select_dtypes(include=['float64', 'int64'])\n",
    ")\n",
    "data[data.select_dtypes(include=['object']).columns] = cat_imputer.fit_transform(\n",
    "    data.select_dtypes(include=['object'])\n",
    ")"
   ]
  },
  {
   "cell_type": "code",
   "execution_count": 12,
   "id": "3e997556",
   "metadata": {},
   "outputs": [
    {
     "name": "stdout",
     "output_type": "stream",
     "text": [
      "Data cleaning completed and saved.\n"
     ]
    }
   ],
   "source": [
    "# Save cleaned data\n",
    "data.to_csv('cleaned_dataset.csv', index=False)\n",
    "print(\"Data cleaning completed and saved.\")"
   ]
  },
  {
   "cell_type": "code",
   "execution_count": null,
   "id": "0eab07d5",
   "metadata": {},
   "outputs": [],
   "source": []
  }
 ],
 "metadata": {
  "kernelspec": {
   "display_name": "Python 3 (ipykernel)",
   "language": "python",
   "name": "python3"
  },
  "language_info": {
   "codemirror_mode": {
    "name": "ipython",
    "version": 3
   },
   "file_extension": ".py",
   "mimetype": "text/x-python",
   "name": "python",
   "nbconvert_exporter": "python",
   "pygments_lexer": "ipython3",
   "version": "3.9.12"
  }
 },
 "nbformat": 4,
 "nbformat_minor": 5
}
